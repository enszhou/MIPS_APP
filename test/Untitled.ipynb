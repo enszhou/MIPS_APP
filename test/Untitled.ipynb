{
 "cells": [
  {
   "cell_type": "code",
   "execution_count": 213,
   "metadata": {},
   "outputs": [
    {
     "name": "stdout",
     "output_type": "stream",
     "text": [
      "x = 881011089    y = 1929016306 \n",
      "gcd(0x34832991, 0x72FA73F2) = 0x00000007\n"
     ]
    }
   ],
   "source": [
    "import numpy as np\n",
    "\n",
    "low = 1;\n",
    "high= 0x7fffffff;\n",
    "(x, y) = np.random.randint(low,high,2,int)\n",
    "\n",
    "print(\"x =\", x, \"   y =\", y, '\\ngcd(0x%08X, 0x%08X) = 0x%08X' % (x, y, np.gcd(x,y)))\n",
    "\n"
   ]
  }
 ],
 "metadata": {
  "kernelspec": {
   "display_name": "Python 3",
   "language": "python",
   "name": "python3"
  },
  "language_info": {
   "codemirror_mode": {
    "name": "ipython",
    "version": 3
   },
   "file_extension": ".py",
   "mimetype": "text/x-python",
   "name": "python",
   "nbconvert_exporter": "python",
   "pygments_lexer": "ipython3",
   "version": "3.6.8"
  }
 },
 "nbformat": 4,
 "nbformat_minor": 2
}
